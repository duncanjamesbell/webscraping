{
 "cells": [
  {
   "cell_type": "code",
   "execution_count": 1,
   "metadata": {},
   "outputs": [
    {
     "name": "stderr",
     "output_type": "stream",
     "text": [
      "C:\\Users\\dbell\\AppData\\Local\\Continuum\\anaconda2\\lib\\site-packages\\bs4\\__init__.py:146: UserWarning: You provided Unicode markup but also provided a value for from_encoding. Your from_encoding will be ignored.\n",
      "  warnings.warn(\"You provided Unicode markup but also provided a value for from_encoding. Your from_encoding will be ignored.\")\n"
     ]
    },
    {
     "name": "stdout",
     "output_type": "stream",
     "text": [
      "foxnews articles current shape:\n",
      "736\n",
      "\n",
      "foxnews new shape:\n",
      "790\n"
     ]
    }
   ],
   "source": [
    "import requests\n",
    "from bs4 import BeautifulSoup\n",
    "import urllib\n",
    "import pandas as pd\n",
    "from datetime import datetime\n",
    "\n",
    "#collecting primary articles\n",
    "stories = []\n",
    "def getTheGoodStuff(newsstories):\n",
    "    global stories\n",
    "    global i\n",
    "    for data in newsstories:\n",
    "        htmlatag = data.find(\"h2\", class_=\"title\").find(\"a\")\n",
    "        headline = htmlatag.getText()\n",
    "        url = htmlatag.get(\"href\")\n",
    "        d = {\"headline\" : headline,\n",
    "             \"url\" : url,\n",
    "            \"sort_rank\" : i}\n",
    "        stories.append(d)\n",
    "        for related in data.find_all(class_=\"related-item\"):\n",
    "            related_htmlatag = related.find(\"a\")\n",
    "            related_headline = related_htmlatag.getText()\n",
    "            related_url = related_htmlatag.get(\"href\")\n",
    "            r = {\"headline\" : related_headline,\n",
    "                 \"url\" : related_url,\n",
    "                 \"sort_rank\" : i+1}\n",
    "            stories.append(r)\n",
    "            \n",
    "def scrapeWebsites():\n",
    "    global stories\n",
    "    global i\n",
    "    \n",
    "    # Getting stories from Fox News.\n",
    "    foxnews = \"http://www.foxnews.com/\"\n",
    "    page = urllib.urlopen(foxnews)\n",
    "    r  = requests.get(foxnews)\n",
    "    data = r.text\n",
    "    soup = BeautifulSoup(data,\"lxml\")\n",
    "    for i in range(0, 20):\n",
    "        foundstories = soup.find_all(\"article\", class_=\"article story-\" + str(i))\n",
    "        getTheGoodStuff(foundstories)\n",
    "    \n",
    "scrapeWebsites()\n",
    "articles = pd.DataFrame(stories)\n",
    "articles.drop_duplicates(inplace=True)\n",
    "articles['date'] = datetime.today().strftime('%Y-%m-%d')\n",
    "articles['year'] = datetime.today().year\n",
    "articles['month'] = datetime.today().month\n",
    "articles['day'] = datetime.today().day\n",
    "articles['hour'] = datetime.today().hour\n",
    "articles['minute'] = datetime.today().minute\n",
    "\n",
    "fox_domains = []\n",
    "for web in articles.url:\n",
    "    domain_items = web.split('//')[-1].split('/')[0].strip('www.').split('.')\n",
    "    url_item = web.split('https://www.foxnews.com/')[-1].split('/')[0]\n",
    "    if domain_items[0] in ['video','foxbusiness','nation']:\n",
    "        fox_domains.append(domain_items[0])\n",
    "    else:\n",
    "        fox_domains.append(url_item)\n",
    "articles['article_type'] = fox_domains\n",
    "\n",
    "#collecting Opinion articles\n",
    "sidebar_stories = []\n",
    "\n",
    "def opinion_getTheGoodStuff(newsstories):\n",
    "    global sidebar_stories\n",
    "    for data in newsstories:\n",
    "        htmlatag = data.find(\"h2\", class_=\"title\").find(\"a\")\n",
    "        headline = htmlatag.getText()\n",
    "        url = htmlatag.get(\"href\")\n",
    "        d = {\"headline\" : headline,\n",
    "             \"url\" : url}\n",
    "        sidebar_stories.append(d)\n",
    "\n",
    "def opinion_scrapeWebsites():\n",
    "    global sidebar_stories\n",
    "    foxnews = \"http://www.foxnews.com/\"\n",
    "    page = urllib.urlopen(foxnews)\n",
    "    r  = requests.get(foxnews)\n",
    "    data = r.text\n",
    "    soup = BeautifulSoup(data,\"lxml\")\n",
    "    foundstories = soup.find(class_=\"collection collection-opinion has-load-more js-opinion\").find_all(\"article\")\n",
    "    for article in foundstories:\n",
    "        opinion_getTheGoodStuff(foundstories)\n",
    "        \n",
    "opinion_scrapeWebsites()\n",
    "sidebar_articles = pd.DataFrame(sidebar_stories)\n",
    "sidebar_articles.drop_duplicates(inplace=True)\n",
    "sort_ranks = range(sidebar_articles.shape[0]+1)\n",
    "del sort_ranks[0]\n",
    "sidebar_articles[\"sort_rank\"] = sort_ranks\n",
    "sidebar_articles['date'] = datetime.today().strftime('%Y-%m-%d')\n",
    "sidebar_articles['year'] = datetime.today().year\n",
    "sidebar_articles['month'] = datetime.today().month\n",
    "sidebar_articles['day'] = datetime.today().day\n",
    "sidebar_articles['hour'] = datetime.today().hour\n",
    "sidebar_articles['minute'] = datetime.today().minute\n",
    "\n",
    "sidebar_articles['article_type'] = \"opinion\"\n",
    "\n",
    "all_articles = pd.concat([articles,sidebar_articles],sort=False)\n",
    "\n",
    "#harvesting article text\n",
    "from selenium import webdriver\n",
    "from time import sleep\n",
    "\n",
    "article_text = []\n",
    "#work comp\n",
    "driver = webdriver.Chrome(\"C:\\Users\\dbell\\Data Science [Github]/chromedriver.exe\")\n",
    "\n",
    "#home comp\n",
    "#driver = webdriver.Chrome(\"C:\\Users\\Duncan\\Data Science\\chromedriver.exe\")\n",
    "\n",
    "\n",
    "for url in all_articles.url:\n",
    "    driver.get(url)\n",
    "    sleep(1) #wait 1 second\n",
    "    html = driver.page_source\n",
    "    soup = BeautifulSoup(html, 'html.parser', from_encoding=\"utf-8\")\n",
    "    article_text.append(soup.find_all('p'))\n",
    "\n",
    "driver.close()    \n",
    "all_articles['article_text'] = article_text\n",
    "\n",
    "foxnews_articles = pd.read_csv('foxnews.csv')\n",
    "print \"foxnews articles current shape:\"\n",
    "print foxnews_articles.shape[0]\n",
    "print \"\"\n",
    "conc = pd.concat([foxnews_articles,all_articles],sort=False)\n",
    "conc.reset_index(inplace=True)\n",
    "conc.drop(['index','Unnamed: 0'],axis=1,inplace=True)\n",
    "\n",
    "conc.to_csv('foxnews.csv', encoding = 'utf-8')\n",
    "print \"foxnews new shape:\"\n",
    "print conc.shape[0]"
   ]
  },
  {
   "cell_type": "code",
   "execution_count": 3,
   "metadata": {},
   "outputs": [
    {
     "data": {
      "text/plain": [
       "[<p class=\"copyright\" data-optly-6dcb091b-a70c-4c25-b431-3878b10cee2e=\"\">This material may not be published, broadcast, rewritten, or redistributed. \\xa92019 FOX News Network, LLC. All rights reserved. All market data delayed 20 minutes.</p>,\n",
       " <p data-v-275a95fe=\"\">Raw video: Little girl's father shares heartwarming video of his daughter's dance with his 66-year-old father who suffers from Alzheimer's and Dementia and Parkinson's.</p>,\n",
       " <p class=\"speakable\">Health care is a subject that remains front and center in so many of our national conversations and debates. It\\u2019s a leading talking point among 2020 presidential candidates. It continues to poll as a top concern among the American public. And it\\u2019s something I hear about regularly from constituents back home in <a href=\"https://www.foxnews.com/category/us/us-regions/southeast/west-virginia\">West Virginia</a>.</p>,\n",
       " <p class=\"speakable\">Much of the talk related to <a href=\"https://www.foxnews.com/category/politics/executive/health-care\">health care</a> issues has to do with flashier or more controversial topics such as \"Medicare for All\" or prescription drug prices, and there are good reasons for that. But at the same time, as those issues dominate the news, it\\u2019s easy for the country to lose sight of others that still deserve our attention.</p>,\n",
       " <p>One of those issues is something that is very close to my heart: Alzheimer\\u2019s disease.</p>,\n",
       " <p><a href=\"https://www.foxnews.com/health/snoring-sleep-apnea-linked-to-alzheimers-disease-study-claims\"><strong>SNORING, SLEEP APNEA LINKED TO ALZHEIMER'S DISEASE, STUDY CLAIMS</strong></a></p>,\n",
       " <p>Like so many Americans, I have felt the impacts of this disease. I lost both of my parents to Alzheimer\\u2019s, and our family helped to care for them. So I understand the difficulties that caregivers and loved ones face as they try to figure out this difficult challenge.</p>,\n",
       " <p>This disease is devastating, and there is no book or a magic formula for how to face it. But I feel strongly that we can do more to ease the pain of those who suffer from Alzheimer\\u2019s, to help their caregivers, and most importantly, to find a cure.</p>,\n",
       " <p class=\"quote-text\">Let\\u2019s make this a national priority until the day we can celebrate the first person cured of Alzheimer\\u2019s.</p>,\n",
       " <p>The statistics surrounding Alzheimer\\u2019s are staggering. More than five million Americans are living with the disease, and it\\u2019s estimated that as many as 16 million will have it in 2050 without some kind of medical breakthroughs. The cost of caring for those with Alzheimer\\u2019s and other dementias is also notable: an estimated $277 billion in 2018, increasing to $1.1 trillion by 2050. Not to mention the emotional costs.</p>,\n",
       " <p>These numbers make it clear that we have some work to do. Fortunately, there is a real bipartisan desire to take it on, and in recent months, I\\u2019ve partnered with colleagues from both sides of the aisle to take steps in tackling Alzheimer\\u2019s.</p>,\n",
       " <p>Take the CHANGE Act, for example. Sens. Debbie Stabenow, D-Mich.,\\xa0Roger Wicker, R-Miss.,\\xa0and Bob Menendez, D-N.J. and I introduced this legislation to encourage early assessment and diagnosis of Alzheimer\\u2019s by better utilizing the existing \\u201cWelcome to Medicare\\u201d initial exam and annual Medicare wellness visits. The bill would also establish payment measures to incentivize detection, diagnosis, and discussion of appropriate care planning services.</p>,\n",
       " <p>I so wish my parents had the opportunity to be involved in decisions regarding their own care, but it\\u2019s my hope that through early assessment and diagnosis, we can give others that opportunity.</p>,\n",
       " <p>It is also important to remember that while many living with Alzheimer\\u2019s are in their later years, there are more than 200,000 Americans under the age of 65 living with the disease. These individuals and their families need access to support and services that most their age don\\u2019t, which is why I joined Sens. Susan Collins, R-Maine.,\\xa0Bob Casey, D-Penn.,\\xa0and Doug Jones, D-Ala.,\\xa0to introduce the Younger-Onset Alzheimer\\u2019s Disease Act.</p>,\n",
       " <p>This bill would amend the Older Americans Act to allow individuals under 60 who are diagnosed with younger-onset Alzheimer\\u2019s disease to access its vital support programs and services.</p>,\n",
       " <p>At the same time, it\\u2019s essential that we continue working toward a cure.</p>,\n",
       " <p>As a member of the Senate Appropriations Committee, I\\u2019ve worked with Labor-Health and Human Services Subcommittee Chairman Roy Blunt, R-Mo.,\\xa0and others to provide resources for critical Alzheimer\\u2019s research. With the passage of the last year\\u2019s government funding bill, we have surpassed the $2 billion milestone when it comes to Alzheimer\\u2019s research, providing the National Institutes of Health the funding it needs to continue its work and to help support the work of others.</p>,\n",
       " <p><a href=\"https://www.foxnews.com/apps-products\"><strong>CLICK HERE TO GET THE FOX NEWS APP</strong></a></p>,\n",
       " <p>It\\u2019s easy to get discouraged when you hear about a once-promising clinical trial not moving forward, when you learn another person you know has been diagnosed with Alzheimer\\u2019s, or when a cure may seem so far away. But observing the research being done at NIH and other institutions across the county, seeing the hope and determination in the eyes of those fighting back, and witnessing the bipartisan commitment to tackling this disease \\u2014 that\\u2019s all proof that we are making progress.</p>,\n",
       " <p>As we commemorate June as Alzheimer\\u2019s &amp;\\xa0Brain Awareness Month, let\\u2019s renew our commitment to this cause. Let\\u2019s work\\xa0toward the day when patients and their families can more easily receive an early assessment and diagnosis or access the care and support services they need. And let\\u2019s make this a national priority until the day we can celebrate the first person cured of Alzheimer\\u2019s.</p>,\n",
       " <p><a href=\"https://www.foxnews.com/person/m/shelley-moore-capito\"><strong>CLICK HERE TO READ MORE BY SHELLEY MOORE CAPITO</strong></a></p>,\n",
       " <p class=\"copyright\">This material may not be published, broadcast, rewritten, or redistributed. \\xa92019 FOX News Network, LLC. All rights reserved. All market data delayed 20 minutes.</p>,\n",
       " <p data-src=\"https://ib.3lift.com/rev/9f5715fe1bd113122fc90049735b31f8d442ff01/dist/bundle.js\" style=\"display: none;\"></p>]"
      ]
     },
     "execution_count": 3,
     "metadata": {},
     "output_type": "execute_result"
    }
   ],
   "source": [
    "conc.article_text[784]"
   ]
  },
  {
   "cell_type": "code",
   "execution_count": 10,
   "metadata": {
    "scrolled": true
   },
   "outputs": [
    {
     "data": {
      "text/plain": [
       "'[<p class=\"copyright\" data-optly-6dcb091b-a70c-4c25-b431-3878b10cee2e=\"\">This material may not be published, broadcast, rewritten, or redistributed. \\xc2\\xa92019 FOX News Network, LLC. All rights reserved. All market data delayed 20 minutes.</p>, <p data-v-275a95fe=\"\">Trump attorney Rudy Giuliani reacts to Mueller\\'s remarks on Russia investigation.</p>, <p class=\"speakable\">President Trump\\'s personal attorney <a href=\"https://www.foxnews.com/transcript/giuliani-mueller-concluded-don-jr-did-nothing-wrong\" target=\"_blank\">Rudy Giuliani</a><a href=\"https://www.foxnews.com/person/g/rudy-giuliani\" target=\"_blank\"> </a>didn\\'t hold back when it came to addressing <a href=\"https://www.foxnews.com/person/g/rudy-giuliani\" target=\"_blank\">Special Counsel Robert Mueller</a>\\'s latest comments on the Russia investigation.</p>, <p class=\"speakable\">Giuliani who appeared on \"<a href=\"https://www.foxnews.com/category/topic/fox-news-flash\" target=\"_blank\">The Story with Martha MacCallum</a>\" Wednesday where he told guest host Ed Henry Mueller\\'s Russia probe\\xc2\\xa0was a \\'waste of two years.\\'</p>, <p><strong><a href=\"https://www.foxnews.com/politics/special-counsel-robert-mueller-to-make-statement-at-justice-dept-amid-pressure-to-testify\">SPECIAL COUNSEL ROBERT MUELLER BREAKS SILENCE ON RUSSIA PROVE, SAYS CHARGING TRUMP WITH A CRIME WAS \\'NOT AN OPTION\\'</a></strong></p>, <p>\"If you take that analysis that he can\\'t indict, and he can\\'t give an opinion, then the reality is we just wasted two years. He did give an opinion. And his opinion is no collusion, no obstruction,\" Giuliani said.</p>, <p>The former mayor of New York then focused on <a href=\"https://www.foxnews.com/politics/swalwell-trump-russia-investigation-larger-watergate-mueller\" target=\"_blank\">Rep. Eric Swalwell, D-Calif., who appeared on show moments before he did</a>. During his interview, Swalwell suggested questions still surrounding the Russia investigation mean it is, \"a larger issue than Watergate.\"</p>, <p>\"That can\\'t be a serious candidate for president... it\\'s pathetic,\" Giuliani said.</p>, <p>\"This guy who wants to be president of the United States wants to flip all of that and what he wants to do is presume the president guilty. He has been saying the president is guilty for two or three years. What a phony.\"</p>, <p>Giuliani also took Democrats to task for continuing to demand access to redacted parts of the report, accusing them of \"lying to the American people\" before declaring the president is \"not guilty.\"</p>, <p><strong><a href=\"https://www.foxnews.com/apps-products?pid=AppArticleLink\" target=\"_blank\">CLICK TO GET THE FOX NEWS APP</a></strong></p>, <p>\"Insufficient evidence means he can\\'t meet the burden for an indictment. The burden for indictment is probable cause. It\\'s not reasonable doubt. He can\\'t get to the level of even making a charge. Do you know what that means every place else in America under American law unless you want to change it? It means you are not guilty,\" Giuliani said.</p>, <p class=\"copyright\">This material may not be published, broadcast, rewritten, or redistributed. \\xc2\\xa92019 FOX News Network, LLC. All rights reserved. All market data delayed 20 minutes.</p>]'"
      ]
     },
     "execution_count": 10,
     "metadata": {},
     "output_type": "execute_result"
    }
   ],
   "source": [
    "conc.article_text[1]"
   ]
  }
 ],
 "metadata": {
  "kernelspec": {
   "display_name": "Python 2",
   "language": "python",
   "name": "python2"
  },
  "language_info": {
   "codemirror_mode": {
    "name": "ipython",
    "version": 2
   },
   "file_extension": ".py",
   "mimetype": "text/x-python",
   "name": "python",
   "nbconvert_exporter": "python",
   "pygments_lexer": "ipython2",
   "version": "2.7.14"
  }
 },
 "nbformat": 4,
 "nbformat_minor": 2
}
